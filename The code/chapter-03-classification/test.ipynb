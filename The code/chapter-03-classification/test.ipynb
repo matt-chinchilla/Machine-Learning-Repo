{
 "cells": [
  {
   "cell_type": "code",
   "execution_count": 15,
   "metadata": {},
   "outputs": [],
   "source": [
    "# Make the requisite imports to my libraries\n",
    "import requests                                 # Fetch the Doc\n",
    "from bs4 import BeautifulSoup                   # HTML parser\n",
    "import pandas as pd                             # Data handling \n",
    "import numpy as np                              # Array stuff\n",
    "import matplotlib.pyplot as plt                 # Visualization\n",
    "from sklearn.preprocessing import LabelEncoder  # Little flexing of AI/ML muscles\n",
    "from typing import List, Iterator, Tuple"
   ]
  },
  {
   "cell_type": "code",
   "execution_count": 16,
   "metadata": {},
   "outputs": [],
   "source": [
    "def fetch_raw_lines(url: str) -> list[str]:\n",
    "    \"\"\"Grab a hypothetical Google Doc ⇒ return its visible text lines\"\"\"\n",
    "    resp: requests.Response = requests.get(url)\n",
    "    resp.raise_for_status()                             # Raise error if its an issue\n",
    "    soup = BeautifulSoup(resp.text, \"html.parser\")      # Parse the HTML\n",
    "\n",
    "    # Retrieve the contents \n",
    "    text: str = soup.body.get_text(separator=\"\\n\")\n",
    "    lines: List[str] = [ln.strip() for ln in text.splitlines() if ln.strip()]\n",
    "\n",
    "    # Drop only the literal header tokens if they appear\n",
    "    filtered: List[str] = [ln for ln in lines if ln not in (\"x\", \"char\", \"y\")]\n",
    "    \n",
    "    return filtered # "
   ]
  },
  {
   "cell_type": "code",
   "execution_count": 17,
   "metadata": {},
   "outputs": [],
   "source": [
    "def parse_records(lines: list[str]) -> pd.DataFrame:\n",
    "    \"\"\"Zip(group) each line-item into a triple ⇒ convert to \n",
    "    appropriate datatypes ⇒ return a DataFrame.\n",
    "    \"\"\"\n",
    "\n",
    "    # Iterator to zip into triples\n",
    "    it: Iterator[str] = iter(lines)\n",
    "    triples: Iterator[Tuple[str, str, str]] = zip(it, it, it)\n",
    "\n",
    "    records: List[dict[str, object]] = []\n",
    "    for x_str, char, y_str in triples:                  # For each line-item\n",
    "        if x_str.isdigit() and y_str.isdigit():         # Verification\n",
    "            records.append({\n",
    "                \"x\": int(x_str),\n",
    "                \"char\": char,\n",
    "                \"y\": int(y_str),\n",
    "            })\n",
    "\n",
    "    return pd.DataFrame(records)\n"
   ]
  },
  {
   "cell_type": "code",
   "execution_count": 18,
   "metadata": {},
   "outputs": [],
   "source": [
    "def build_grid(df: pd.DataFrame) -> pd.DataFrame:\n",
    "    \"\"\"\n",
    "    Pivot the DataFrame into a 2D grid (rows=y, cols=x) ⇒ fill missing with blank (similar to 1HE),\n",
    "    ⇒ sort both axes so (0,0) ends up at the top-left (\"F\"-example).\n",
    "    \"\"\"\n",
    "    grid: pd.DataFrame = (\n",
    "        df\n",
    "        .pivot(index=\"y\", columns=\"x\", values=\"char\")                       # Pivot to 2D\n",
    "        .fillna(\" \")\n",
    "        .sort_index(axis=0, ascending=False)  # Invert Y-vals\n",
    "        .sort_index(axis=1)                   # Regular X-vals\n",
    "    )\n",
    "    return grid"
   ]
  },
  {
   "cell_type": "code",
   "execution_count": 19,
   "metadata": {},
   "outputs": [],
   "source": [
    "def display_grid(grid: pd.DataFrame):\n",
    "    \"\"\"Print the grid as ASCII art in the console ⇒ Render it graphically with matplotlib.\"\"\"\n",
    "    arr: np.ndarray = np.array(grid)\n",
    "\n",
    "    # Console output\n",
    "    for row in arr:\n",
    "        print(\"\".join(row.tolist()))\n",
    "\n",
    "    # Make save-able matplotlib figure\n",
    "    fig, ax = plt.subplots(\n",
    "        figsize=(10, 2),\n",
    "        constrained_layout=True\n",
    "    )\n",
    "\n",
    "    # Plot the contents\n",
    "    for (row_idx, col_idx), ch in np.ndenumerate(arr):  # Iteratin time\n",
    "        ax.text(\n",
    "            float(col_idx),\n",
    "            float(row_idx),\n",
    "            str(ch),\n",
    "            family=\"serif\",\n",
    "            va=\"top\",\n",
    "            ha=\"left\",\n",
    "            fontsize=14\n",
    "        )\n",
    "\n",
    "    # Pretty it up\n",
    "    ax.set_xlim(0, 94)\n",
    "    ax.set_ylim(7, 0)\n",
    "    ax.set_title(\"Output of Plot\")\n",
    "    ax.set_axis_on()\n",
    "    ax.grid(True)\n",
    "\n",
    "    plt.show()"
   ]
  },
  {
   "cell_type": "code",
   "execution_count": 20,
   "metadata": {},
   "outputs": [],
   "source": [
    "def reveal_message(doc_url: str):\n",
    "    \"\"\"Tying up the steps\"\"\"\n",
    "    lines: List[str] = fetch_raw_lines(doc_url)\n",
    "    df: pd.DataFrame = parse_records(lines)\n",
    "\n",
    "    le: LabelEncoder = LabelEncoder()\n",
    "    df[\"char_id\"] = le.fit_transform(df[\"char\"])\n",
    "\n",
    "    grid: pd.DataFrame = build_grid(df)\n",
    "    display_grid(grid)"
   ]
  },
  {
   "cell_type": "code",
   "execution_count": 21,
   "metadata": {},
   "outputs": [
    {
     "name": "stdout",
     "output_type": "stream",
     "text": [
      "████████░    ████████░  ██████████░   ███████░ ██░           ███░███░    ███░██░     ██░\n",
      "██░     ██░███░     ███░██░         ███░    ██░███░   ███░   ██░   ██░  ██░  ██░     ██░\n",
      "██░     ██░██░       ██░██░        ███░         ██░  █████░ ███░    ██░██░   ██░     ██░\n",
      "████████░  ██░       ██░████████░  ██░          ███░ ██░██░ ██░      ███░    ██████████░\n",
      "██░     ██░██░       ██░██░        ███░          ██░██░ ██░██░      ██░██░   ██░     ██░\n",
      "██░     ██░███░     ███░██░         ███░    ██░  ████░   ████░     ██░  ██░  ██░     ██░\n",
      "████████░    ████████░  ██████████░   ███████░    ██░     ██░    ███░    ███░██░     ██░\n"
     ]
    },
    {
     "data": {
      "image/png": "[encoded data removed]",
      "text/plain": [
       "<Figure size 1000x200 with 1 Axes>"
      ]
     },
     "metadata": {},
     "output_type": "display_data"
    }
   ],
   "source": [
    "# Example usage:\n",
    "if __name__ == \"__main__\":\n",
    "    URL = \"https://docs.google.com/document/d/e/2PACX-1vQGUck9HIFCyezsrBSnmENk5ieJuYwpt7YHYEzeNJkIb9OSDdx-ov2nRNReKQyey-cwJOoEKUhLmN9z/pub\"\n",
    "    reveal_message(URL)"
   ]
  }
 ],
 "metadata": {
  "kernelspec": {
   "display_name": "Python 3",
   "language": "python",
   "name": "python3"
  },
  "language_info": {
   "codemirror_mode": {
    "name": "ipython",
    "version": 3
   },
   "file_extension": ".py",
   "mimetype": "text/x-python",
   "name": "python",
   "nbconvert_exporter": "python",
   "pygments_lexer": "ipython3",
   "version": "3.12.4"
  }
 },
 "nbformat": 4,
 "nbformat_minor": 2
}
