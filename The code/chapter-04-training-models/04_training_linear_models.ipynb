{
 "cells": [
  {
   "cell_type": "code",
   "execution_count": 12,
   "metadata": {},
   "outputs": [],
   "source": [
    "# Rudimentary setup\n",
    "import sys\n",
    "assert sys.version_info >= (3, 7)"
   ]
  },
  {
   "cell_type": "code",
   "execution_count": 13,
   "metadata": {},
   "outputs": [],
   "source": [
    "from packaging import version\n",
    "import sklearn\n",
    "assert version.parse(sklearn.__version__) >= version.parse(\"1.0.1\")"
   ]
  },
  {
   "cell_type": "code",
   "execution_count": 14,
   "metadata": {},
   "outputs": [],
   "source": [
    "# Define some default font-sizes and figure settings\n",
    "import matplotlib.pyplot as plt\n",
    "\n",
    "plt.rc('font', size=14)\n",
    "plt.rc('axes', labelsize=14, titlesize=16)\n",
    "plt.rc('legend', fontsize=14)\n",
    "plt.rc('xtick', labelsize=10)\n",
    "plt.rc('ytick', labelsize=10)"
   ]
  },
  {
   "cell_type": "markdown",
   "metadata": {},
   "source": [
    "creating the `images/training_linear_models` folder & defining the `save_fig()` function for use"
   ]
  },
  {
   "cell_type": "code",
   "execution_count": 15,
   "metadata": {},
   "outputs": [],
   "source": [
    "from pathlib import Path\n",
    "\n",
    "IMAGES_PATH = Path() / \"images\" / \"training_linear_models\"\n",
    "IMAGES_PATH.mkdir(parents=True, exist_ok=True)\n",
    "\n",
    "def save_fig(fig_id, tight_layout=True, fig_extension=\"png\", resolution=300):\n",
    "    path = IMAGES_PATH / f\"{fig_id}.{fig_extension}\"\n",
    "    if tight_layout:\n",
    "        plt.tight_layout()\n",
    "    plt.savefig(path, format=fig_extension, dpi=resolution)"
   ]
  },
  {
   "cell_type": "markdown",
   "metadata": {},
   "source": [
    "## 1) <u>Linear Regression</u>\n",
    "- Until now → Did most of the work without having a \"solid\" understanding on how to do this\n",
    "- Need to know what is under the hood (***determine the appropriate model, the right training algorithm, and idyllic hyperparameters***)\n",
    "\n",
    "- Staring off, time to look at the `linear regression model` & **2** ways to train it\n",
    "1. Using a `closed-form equation` → <u>Only **finite** numbers of constants, variables, and standard operations (no ∞-sums, no limits, no integrals)</u>\n",
    "    - It will directly compute the model parameters that best fit the model to the training set\n",
    "\n",
    "2. Using an *iterative-optimization approach* called the `gradient descent` → <u>Gradually tweaks model parameters to minimize the cost-function over the training set and eventually **converges to the same set of parameters as the first method**</u>\n",
    "    - Gonna check-out some variants of **GD** For ***neural-networks*** (ex: Btach GF, mini-batch GD, and stochastic GD)\n",
    "    - To begin, time to do `polynomial regression` → **more complex model that can fit nonlinear datasets & is prone to overfitting\n",
    "\n",
    "### 1a) <u>Linear Regression Equations</u>\n",
    "1. Example from ch.1 was: <u>*life_satisfaction = Θ₀ + Θ₁ x GDP_per_capita*</u>\n",
    "    - simply a ***linear fxn of input-feature GDP_per_capita*** || **Θ₀ and Θ₁ are the model's parameters**\n",
    "\n",
    "2. Generally, a linear model makes a predict by <u>Computing a weighted sum of the input features, plus a constant called the *bias term* (aka, *intercept term* aka the **b** in **y = mx + b**)</u>\n",
    "\n",
    "    - *Equation 4-1. <u>Linear Regression Model Prediction</u>*\n",
    "    - *ŷ = Θ₀ + Θ₁x₁ + Θ₂x₂ + ••• + Θₙxₙ*\n",
    "        - ***ŷ*** == predicted value\n",
    "        - ***n*** == number of features\n",
    "        - ***xᵢ*** == the *iᵗʰ* feature value\n",
    "        - ***Θᵢ*** == the *iᵗʰ* model parameter, including the bias term *Θ₀*, and the feature weights *Θ₁,Θ₂,•••, Θₙ*\n",
    "\n",
    "\n",
    "3. Can be re-written as...\n",
    "\n",
    "    - *Equation 4-2. <u>Linear regression model prediction (vectorized form)*</u>\n",
    "    - *ŷ = h***₀(x)** == **Θ • x** \n",
    "        - ***h₀*** == hypothesis function, using model parameters **Θ**\n",
    "        - ***Θ*** == the model's *parameter vector*, including the *bias term Θ₀* and the feature weights *Θ₁ to Θₙ*\n",
    "        - ***x*** == the instance's *feature vector*, containing *x₀ to xₙ*, with x₀ always equal to 1\n",
    "        - **Θ • x** == the dot product of the vectors **Θ** and **x**, which is equal to *Θ₀x₀ + Θ₁x₁ + Θ₂x₂ + ... + Θₙxₙ*\n",
    "\n",
    "\n",
    "4. Best way to train it is by using the **Root Mean Squared Error (RMSE)**\n",
    "    - It is simpler to minimize the **mean quared error (MSE)** than the RMSE → leads to the same result\n",
    "\n",
    "5. The MSE of a linear regression hypothesis *h<sub>Θ</sub>* on training set 󠁘**Ｘ** is calculated using Equation 4-3\n",
    "    - *Equation 4-3. <u>MSE cost function for a linear regression model</u>*\n",
    "    - $\\mathrm{MSE}(\\mathbf{X}, h_\\theta) = \\frac{1}{m} \\sum_{i=1}^m \\left( \\boldsymbol{\\theta}^\\mathsf{T} \\mathbf{x}^{(i)} - y^{(i)} \\right)^2$\n"
   ]
  },
  {
   "cell_type": "markdown",
   "metadata": {},
   "source": [
    "### 1b) <u>The Normal Equation</u>\n",
    "- `Normal Equation` ⇒ <u>A *closed-form solution* used to find the value of **Θ** that minimizes the MSE (a math equation that gives the result directly)</u>\n",
    "\n",
    "    - *Equation 4-4. Normal equation*\n",
    "    - $\\hat{\\boldsymbol{\\theta}} = (\\mathbf{X}^\\mathsf{T} \\mathbf{X})^{-1} \\mathbf{X}^\\mathsf{T} \\mathbf{y}$\n",
    "    \n",
    "        - $\\hat{\\boldsymbol{\\theta}}$ == the value of ${\\boldsymbol{\\theta}}$ tjat minimizes the cost function\n",
    "        - **y** == the vector of target values containing $\\mathbf{y}^{(1)}$ to $\\mathbf{y}^{(m)}$"
   ]
  },
  {
   "cell_type": "code",
   "execution_count": 16,
   "metadata": {},
   "outputs": [],
   "source": [
    "# Implementing some linear-looking data to test the equation on\n",
    "import numpy as np\n",
    "\n",
    "np.random.seed(42)\n",
    "m: int = 100                                 # Number of instances\n",
    "X: np.ndarray = 2 * np.random.rand(m,1)              # X = [0, 2]\n",
    "y: np.ndarray = 4 + 3 * X + np.random.randn(m,1)     # y = 4 + 3x + Gaussian noise"
   ]
  },
  {
   "cell_type": "code",
   "execution_count": 17,
   "metadata": {},
   "outputs": [
    {
     "data": {
      "image/png": "[encoded data removed]",
      "text/plain": [
       "<Figure size 600x400 with 1 Axes>"
      ]
     },
     "metadata": {},
     "output_type": "display_data"
    }
   ],
   "source": [
    "import matplotlib.pyplot as plt\n",
    "\n",
    "plt.figure(figsize=(6, 4))\n",
    "plt.plot(X, y, \"b.\")                # blue dots\n",
    "plt.xlabel(\"$x_1$\")\n",
    "plt.ylabel(\"$y$\", rotation=0)       # rotation=0 makes the label horizontal\n",
    "plt.axis([0, 2, 0, 15])\n",
    "plt.grid()\n",
    "plt.title(\"Generated Data\")\n",
    "save_fig(\"generated_data_plot\")\n",
    "plt.show()"
   ]
  },
  {
   "cell_type": "markdown",
   "metadata": {},
   "source": [
    "2. Computing $\\hat{\\boldsymbol{\\theta}}$ using the **Normal Equation**\n",
    "    - Using the `inv()` function from ***NumPy's*** linear algebra module `np.linalg` to compute the inverse of a matrix ⇒ THEN the `dot()` method for matrix multiplication"
   ]
  },
  {
   "cell_type": "code",
   "execution_count": 18,
   "metadata": {},
   "outputs": [],
   "source": [
    "from sklearn.preprocessing import add_dummy_feature\n",
    "\n",
    "X_b: np.ndarray = add_dummy_feature(X)  # add x0 = 1 to each instance // simply adds a column of 1s at position X[0]\n",
    "theta_best = np.linalg.inv(X_b.T @ X_b) @ X_b.T @ y\n",
    "    # Dot product of X_b transpose and X_b → Inverse it → Dot product with X_b transpose and y → Dot product Inverse w/ X_b.T @ y"
   ]
  },
  {
   "cell_type": "markdown",
   "metadata": {},
   "source": [
    "**Note:** the `@` operator performs matrix multiplication & cannot be used on pure Python arrays (i.e. list of lists)\n",
    "- @ == `dot product`"
   ]
  },
  {
   "cell_type": "code",
   "execution_count": 50,
   "metadata": {},
   "outputs": [
    {
     "name": "stdout",
     "output_type": "stream",
     "text": [
      "First three of Feature-grid 'X': \n",
      "[[1.         0.74908024]\n",
      " [1.         1.90142861]\n",
      " [1.         1.46398788]]\t shape = (3, 2)\n",
      "\n",
      "First 3 of target (labels): \n",
      "[[6.33428778]\n",
      " [9.40527849]\n",
      " [8.48372443]]\t shape = (3, 1)\n",
      "\n",
      "Transpose of X: \n",
      "[[1.         1.         1.        ]\n",
      " [0.74908024 1.90142861 1.46398788]]\t shape = (2, 3)\n",
      "\n",
      "Inverse of Transpose 'X' * orignal 'X' \n",
      "[[ 0.03523199 -0.02683222]\n",
      " [-0.02683222  0.02853394]]\t shape = (2, 2)\n",
      "\n",
      "Dot product of Transpose-X and target vector y:\n",
      "[[682.00041001]\n",
      " [738.40825805]]\t shape = (2, 1)\n",
      "\n",
      "Theta_best = (X_b.T @ X_b)^-1 @ (X_b.T @ y):\n",
      "[[4.21509616]\n",
      " [2.77011339]]\t shape = (2, 1)\n"
     ]
    }
   ],
   "source": [
    "# Showing some examples\n",
    "from scipy import linalg\n",
    "\n",
    "print(f\"First three of Feature-grid 'X': \\n{X_b[:3]}\\t shape = {X_b[:3].shape}\")\n",
    "print(f\"\\nFirst 3 of target (labels): \\n{y[:3]}\\t shape = {y[:3].shape}\")\n",
    "print(f\"\\nTranspose of X: \\n{X_b[:3].T}\\t shape = {X_b[:3].T.shape}\")\n",
    "\n",
    "# Dotproducts\n",
    "print(f\"\\nInverse of Transpose 'X' * orignal 'X' \\n{np.linalg.inv(X_b.T @ X_b)}\\t shape = {np.linalg.inv(X_b.T @ X_b).shape}\") \n",
    "\n",
    "Xty = X_b.T @ y\n",
    "print(f\"\\nDot product of Transpose-X and target vector y:\\n{Xty}\\t shape = {Xty.shape}\")\n",
    "\n",
    "print(f\"\\nTheta_best = (X_b.T @ X_b)^-1 @ (X_b.T @ y):\\n{theta_best}\\t shape = {theta_best.shape}\")"
   ]
  },
  {
   "cell_type": "markdown",
   "metadata": {},
   "source": [
    "3. Seeing as how the original equation is ***\"y = 4 + 3x₁ + Gaussian noise\"***, the ideal outcome would have been $\\mathbf{\\theta_{0}} = 4$ and $\\mathbf{\\theta_{1}} = 3$ and not $\\mathbf{\\theta_{0}} = 4.215$ and $\\mathbf{\\theta_{1}} = 2.770$\n",
    "    - We can now make predictions using $\\hat{\\boldsymbol{\\theta}}$"
   ]
  },
  {
   "cell_type": "code",
   "execution_count": 51,
   "metadata": {},
   "outputs": [
    {
     "data": {
      "text/plain": [
       "array([[4.21509616],\n",
       "       [9.75532293]])"
      ]
     },
     "execution_count": 51,
     "metadata": {},
     "output_type": "execute_result"
    }
   ],
   "source": [
    "X_new = np.array([[0], [2]])\n",
    "X_new_b = add_dummy_feature(X_new)  # add x0 = 1 to each instance\n",
    "y_predict = X_new_b @ theta_best\n",
    "y_predict"
   ]
  },
  {
   "cell_type": "markdown",
   "metadata": {},
   "source": [
    "4. visualizing the predictions"
   ]
  },
  {
   "cell_type": "code",
   "execution_count": 52,
   "metadata": {},
   "outputs": [
    {
     "data": {
      "image/png": "[encoded data removed]",
      "text/plain": [
       "<Figure size 600x400 with 1 Axes>"
      ]
     },
     "metadata": {},
     "output_type": "display_data"
    }
   ],
   "source": [
    "import matplotlib.pyplot as plt\n",
    "\n",
    "plt.figure(figsize=(6, 4))  # extra code – not needed, just formatting\n",
    "plt.plot(X_new, y_predict, \"r-\", label=\"Predictions\")\n",
    "plt.plot(X, y, \"b.\")\n",
    "\n",
    "# extra code – beautifies and saves Figure 4–2\n",
    "plt.xlabel(\"$x_1$\")\n",
    "plt.ylabel(\"$y$\", rotation=0)\n",
    "plt.axis([0, 2, 0, 15])\n",
    "plt.grid()\n",
    "plt.legend(loc=\"upper left\")\n",
    "plt.title(\"Linear Model Predictions\")\n",
    "save_fig(\"linear_model_predictions_plot\")\n",
    "\n",
    "plt.show()"
   ]
  },
  {
   "cell_type": "markdown",
   "metadata": {},
   "source": [
    "5. Performing ***Linear Regression*** from SK-Learn from Here"
   ]
  },
  {
   "cell_type": "code",
   "execution_count": 54,
   "metadata": {},
   "outputs": [
    {
     "data": {
      "text/plain": [
       "(array([4.21509616]), array([[2.77011339]]))"
      ]
     },
     "execution_count": 54,
     "metadata": {},
     "output_type": "execute_result"
    }
   ],
   "source": [
    "from sklearn.linear_model import LinearRegression\n",
    "\n",
    "lin_reg = LinearRegression()\n",
    "lin_reg.fit(X, y)\n",
    "\n",
    "lin_reg.intercept_, lin_reg.coef_       # bias term/y-intercept && Slope/coefficient weight in \"y = Θ_0 + x_1 * Θ_1\""
   ]
  }
 ],
 "metadata": {
  "kernelspec": {
   "display_name": "Python 3",
   "language": "python",
   "name": "python3"
  },
  "language_info": {
   "codemirror_mode": {
    "name": "ipython",
    "version": 3
   },
   "file_extension": ".py",
   "mimetype": "text/x-python",
   "name": "python",
   "nbconvert_exporter": "python",
   "pygments_lexer": "ipython3",
   "version": "3.12.4"
  }
 },
 "nbformat": 4,
 "nbformat_minor": 2
}
